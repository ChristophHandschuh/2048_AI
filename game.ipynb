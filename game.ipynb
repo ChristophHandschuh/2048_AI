{
 "cells": [
  {
   "cell_type": "markdown",
   "source": [
    "# 2048 AI - Neat Network\n",
    "Import Libraries"
   ],
   "metadata": {
    "collapsed": false
   },
   "id": "1a829b3cb57757af"
  },
  {
   "cell_type": "code",
   "outputs": [],
   "source": [
    "import numpy as np\n",
    "import random"
   ],
   "metadata": {
    "collapsed": true,
    "ExecuteTime": {
     "end_time": "2024-02-29T14:46:06.279178Z",
     "start_time": "2024-02-29T14:46:06.046083Z"
    }
   },
   "id": "initial_id",
   "execution_count": 5
  },
  {
   "cell_type": "markdown",
   "source": [
    "#### Game Class\n",
    "2048 Game class in order to play multiple Games at once"
   ],
   "metadata": {
    "collapsed": false
   },
   "id": "2f24a4b968955f72"
  },
  {
   "cell_type": "code",
   "outputs": [],
   "source": [
    "class Game():\n",
    "    game_board = np.array((4,4))\n",
    "    def __init__(self):\n",
    "        self.game_board = np.zeros((4, 4), dtype=int)   #set board to 0\n",
    "        self.addTiles()\n",
    "    \n",
    "    def addTiles(self): #add two tiles on random position\n",
    "        for _ in range(0,2):\n",
    "            while(True):\n",
    "                x = random.randint(0,3)\n",
    "                y = random.randint(0,3)\n",
    "                if(self.game_board[x][y] == 0):\n",
    "                    break\n",
    "            self.game_board[x][y] = random.randint(1,2)*2\n",
    "        \n",
    "    def print_board(self):\n",
    "        for i in range(len(self.game_board)):\n",
    "            for j in range(len(self.game_board[i])):\n",
    "                print (self.game_board[i][j], \" \", sep=\"\", end=\"\") \n",
    "            print()\n",
    "        print()\n",
    "            "
   ],
   "metadata": {
    "collapsed": false
   },
   "id": "e714bfc16e8ef43f",
   "execution_count": null
  },
  {
   "cell_type": "markdown",
   "source": [
    "#### Stack Function\n",
    "Stack function iterates through each column of the board. It finds the first non-zero element in each column and stores its index in the 'k' variable. Afterwards the method swaps the non-zero element with the current iteration position. Therefore, element are moved to the top."
   ],
   "metadata": {
    "collapsed": false
   },
   "id": "5ffd93352075f65f"
  },
  {
   "cell_type": "code",
   "outputs": [],
   "source": [
    "    def stack(self, board):\n",
    "        for i in range(0, 4):\n",
    "            for j in range(0, 4):\n",
    "                k = i\n",
    "                while board[k][j] == 0:\n",
    "                    if k == 3:\n",
    "                        break\n",
    "                    k += 1\n",
    "                if k != i:\n",
    "                    board[i][j], board[k][j] = board[k][j], 0\n",
    "              "
   ],
   "metadata": {
    "collapsed": false
   },
   "id": "350c03652fd1275e",
   "execution_count": null
  },
  {
   "cell_type": "markdown",
   "source": [
    "#### Sum Up Function\n",
    "This function iterates through each cell column wise in the board. It checks if the current cell and the cell directly below have the same number. If they do, the method adds two numbers together and sets the current cell and the cell below it to zero. This process continues for the rest of the top row."
   ],
   "metadata": {
    "collapsed": false
   },
   "id": "b9f372ceedc6808f"
  },
  {
   "cell_type": "code",
   "outputs": [],
   "source": [
    "      \n",
    "    def sum_up(self, board):\n",
    "        for i in range(0, 3):\n",
    "            for j in range(0, 4):\n",
    "                if board[i][j] != 0 and board[i][j] == board[i + 1][j]:\n",
    "                    board[i][j] += board[i + 1][j]\n",
    "                    board[i + 1][j] = 0"
   ],
   "metadata": {
    "collapsed": false
   },
   "id": "c9db625a8ab79bc4",
   "execution_count": null
  },
  {
   "cell_type": "markdown",
   "source": [
    "#### Move Function\n",
    "The Board is rotated in 90 degree steps to make right, down and left moves possible.\n",
    "direction:\n",
    "- up = 0\n",
    "- right = 1\n",
    "- down = 2\n",
    "- left = 3"
   ],
   "metadata": {
    "collapsed": false
   },
   "id": "8d0b952d8381924a"
  },
  {
   "cell_type": "code",
   "outputs": [],
   "source": [
    "    def move(self, direction):\n",
    "        rotated_board = np.rot90(self.game_board, direction)\n",
    "        self.stack(rotated_board)\n",
    "        self.sum_up(rotated_board)\n",
    "        self.stack(rotated_board)\n",
    "        self.game_board = np.rot90(rotated_board, 4 - direction)\n",
    "        self.addTiles()\n",
    "    \n",
    "    def score(self):\n",
    "        return np.max(self.game_board)\n",
    "    \n",
    "    def gameOver(self):\n",
    "        return np.count_nonzero(self.game_board==0) < 2"
   ],
   "metadata": {
    "collapsed": false,
    "ExecuteTime": {
     "end_time": "2024-02-29T15:15:44.791507Z",
     "start_time": "2024-02-29T15:15:44.780212Z"
    }
   },
   "id": "f7d85ca484441d88",
   "execution_count": 79
  },
  {
   "cell_type": "code",
   "outputs": [
    {
     "name": "stdout",
     "output_type": "stream",
     "text": [
      "0 0 0 2 \n",
      "0 0 0 0 \n",
      "4 0 0 0 \n",
      "0 0 0 0 \n",
      "\n",
      "0 0 0 2 \n",
      "0 0 2 0 \n",
      "4 0 0 4 \n",
      "0 0 0 0 \n",
      "\n",
      "False\n",
      "0 0 0 2 \n",
      "4 0 0 2 \n",
      "0 0 0 8 \n",
      "0 4 0 0 \n",
      "\n",
      "False\n",
      "0 0 0 2 \n",
      "0 2 4 2 \n",
      "0 0 2 8 \n",
      "0 0 0 4 \n",
      "\n",
      "False\n",
      "0 0 0 2 \n",
      "0 2 4 2 \n",
      "2 0 2 8 \n",
      "0 4 0 4 \n",
      "\n",
      "False\n",
      "2 0 0 2 \n",
      "0 2 4 2 \n",
      "0 2 4 8 \n",
      "0 0 0 8 \n",
      "\n",
      "False\n",
      "8\n"
     ]
    }
   ],
   "source": [
    "test = Game()\n",
    "test.print_board()\n",
    "\n",
    "for _ in range(0,5):\n",
    "    test.move(1)\n",
    "    test.print_board()\n",
    "    print(test.gameOver())\n",
    "\n",
    "print(test.score())"
   ],
   "metadata": {
    "collapsed": false,
    "ExecuteTime": {
     "end_time": "2024-02-29T15:16:52.732498Z",
     "start_time": "2024-02-29T15:16:52.723958Z"
    }
   },
   "id": "e3223f19ba85aa98",
   "execution_count": 83
  }
 ],
 "metadata": {
  "kernelspec": {
   "display_name": "Python 3",
   "language": "python",
   "name": "python3"
  },
  "language_info": {
   "codemirror_mode": {
    "name": "ipython",
    "version": 2
   },
   "file_extension": ".py",
   "mimetype": "text/x-python",
   "name": "python",
   "nbconvert_exporter": "python",
   "pygments_lexer": "ipython2",
   "version": "2.7.6"
  }
 },
 "nbformat": 4,
 "nbformat_minor": 5
}
