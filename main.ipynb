{
 "cells": [
  {
   "cell_type": "markdown",
   "source": [
    "# 2048 AI - NEAT Network\n",
    "Import Libraries"
   ],
   "metadata": {
    "collapsed": false
   },
   "id": "97e59d4286ea1004"
  },
  {
   "cell_type": "code",
   "outputs": [],
   "source": [
    "import neat\n",
    "import os\n",
    "from gameClass import gameClass\n",
    "import numpy as np"
   ],
   "metadata": {
    "collapsed": false,
    "ExecuteTime": {
     "end_time": "2024-03-04T07:47:16.865437Z",
     "start_time": "2024-03-04T07:47:16.583023Z"
    }
   },
   "id": "88bfa768640af80f",
   "execution_count": 1
  },
  {
   "cell_type": "markdown",
   "source": [
    "Main Code"
   ],
   "metadata": {
    "collapsed": false
   },
   "id": "7e3f7e780175f716"
  },
  {
   "cell_type": "code",
   "outputs": [
    {
     "name": "stdout",
     "output_type": "stream",
     "text": [
      "\n",
      " ****** Running generation 0 ****** \n",
      "Population's average fitness: 3.86667 stdev: 0.68961\n",
      "Best fitness: 6.00000 - size: (4, 64) - species 1 - id 99\n",
      "Average adjusted fitness: 0.289\n",
      "Mean genetic distance 1.052, standard deviation 0.201\n",
      "Population of 150 members in 1 species:\n",
      "   ID   age  size  fitness  adj fit  stag\n",
      "  ====  ===  ====  =======  =======  ====\n",
      "     1    0   150      6.0    0.289     0\n",
      "Total extinctions: 0\n",
      "Generation time: 0.297 sec\n",
      "\n",
      " ****** Running generation 1 ****** \n",
      "Population's average fitness: 3.91333 stdev: 0.58807\n",
      "Best fitness: 6.00000 - size: (4, 64) - species 1 - id 232\n",
      "Average adjusted fitness: 0.304\n",
      "Mean genetic distance 1.120, standard deviation 0.220\n",
      "Population of 150 members in 1 species:\n",
      "   ID   age  size  fitness  adj fit  stag\n",
      "  ====  ===  ====  =======  =======  ====\n",
      "     1    1   150      6.0    0.304     1\n",
      "Total extinctions: 0\n",
      "Generation time: 0.282 sec (0.289 average)\n",
      "\n",
      " ****** Running generation 2 ****** \n",
      "Population's average fitness: 3.99333 stdev: 0.66830\n",
      "Best fitness: 6.00000 - size: (5, 64) - species 1 - id 346\n",
      "Average adjusted fitness: 0.331\n",
      "Mean genetic distance 1.199, standard deviation 0.211\n",
      "Population of 150 members in 1 species:\n",
      "   ID   age  size  fitness  adj fit  stag\n",
      "  ====  ===  ====  =======  =======  ====\n",
      "     1    2   150      6.0    0.331     2\n",
      "Total extinctions: 0\n",
      "Generation time: 0.304 sec (0.294 average)\n",
      "\n",
      " ****** Running generation 3 ****** \n",
      "Population's average fitness: 3.96000 stdev: 0.75613\n",
      "Best fitness: 6.00000 - size: (4, 60) - species 1 - id 476\n",
      "Average adjusted fitness: 0.490\n",
      "Mean genetic distance 1.243, standard deviation 0.223\n",
      "Population of 150 members in 1 species:\n",
      "   ID   age  size  fitness  adj fit  stag\n",
      "  ====  ===  ====  =======  =======  ====\n",
      "     1    3   150      6.0    0.490     3\n",
      "Total extinctions: 0\n",
      "Generation time: 0.295 sec (0.294 average)\n",
      "\n",
      " ****** Running generation 4 ****** \n",
      "Population's average fitness: 3.90000 stdev: 0.69041\n",
      "Best fitness: 6.00000 - size: (4, 62) - species 1 - id 629\n",
      "Average adjusted fitness: 0.475\n",
      "Mean genetic distance 1.339, standard deviation 0.236\n",
      "Population of 150 members in 1 species:\n",
      "   ID   age  size  fitness  adj fit  stag\n",
      "  ====  ===  ====  =======  =======  ====\n",
      "     1    4   150      6.0    0.475     4\n",
      "Total extinctions: 0\n",
      "Generation time: 0.290 sec (0.294 average)\n",
      "\n",
      " ****** Running generation 5 ****** \n"
     ]
    },
    {
     "ename": "KeyboardInterrupt",
     "evalue": "",
     "output_type": "error",
     "traceback": [
      "\u001B[0;31m---------------------------------------------------------------------------\u001B[0m",
      "\u001B[0;31mKeyboardInterrupt\u001B[0m                         Traceback (most recent call last)",
      "Cell \u001B[0;32mIn[3], line 58\u001B[0m\n\u001B[1;32m     56\u001B[0m local_dir \u001B[38;5;241m=\u001B[39m os\u001B[38;5;241m.\u001B[39mgetcwd() \n\u001B[1;32m     57\u001B[0m config_path \u001B[38;5;241m=\u001B[39m os\u001B[38;5;241m.\u001B[39mpath\u001B[38;5;241m.\u001B[39mjoin(local_dir, \u001B[38;5;124m'\u001B[39m\u001B[38;5;124mconfig-feedforward\u001B[39m\u001B[38;5;124m'\u001B[39m)\n\u001B[0;32m---> 58\u001B[0m \u001B[43mrun\u001B[49m\u001B[43m(\u001B[49m\u001B[43mconfig_path\u001B[49m\u001B[43m)\u001B[49m\n",
      "Cell \u001B[0;32mIn[3], line 47\u001B[0m, in \u001B[0;36mrun\u001B[0;34m(config_file)\u001B[0m\n\u001B[1;32m     44\u001B[0m p\u001B[38;5;241m.\u001B[39madd_reporter(neat\u001B[38;5;241m.\u001B[39mCheckpointer(\u001B[38;5;241m100\u001B[39m))\n\u001B[1;32m     46\u001B[0m \u001B[38;5;66;03m# Run for up to 300 generations.\u001B[39;00m\n\u001B[0;32m---> 47\u001B[0m winner \u001B[38;5;241m=\u001B[39m \u001B[43mp\u001B[49m\u001B[38;5;241;43m.\u001B[39;49m\u001B[43mrun\u001B[49m\u001B[43m(\u001B[49m\u001B[43meval_genomes\u001B[49m\u001B[43m,\u001B[49m\u001B[43m \u001B[49m\u001B[38;5;241;43m1000\u001B[39;49m\u001B[43m)\u001B[49m\n\u001B[1;32m     48\u001B[0m \u001B[38;5;66;03m# Display the winning genome.\u001B[39;00m\n\u001B[1;32m     49\u001B[0m \u001B[38;5;66;03m#print('\\nBest genome:\\n{!s}'.format(winner))\u001B[39;00m\n\u001B[1;32m     50\u001B[0m \n\u001B[1;32m     51\u001B[0m \u001B[38;5;66;03m#p = neat.Checkpointer.restore_checkpoint('neat-checkpoint-4')\u001B[39;00m\n\u001B[1;32m     52\u001B[0m p\u001B[38;5;241m.\u001B[39mrun(eval_genomes, \u001B[38;5;241m10\u001B[39m)\n",
      "File \u001B[0;32m~/Coding/2048_AI/.venv/lib/python3.11/site-packages/neat/population.py:89\u001B[0m, in \u001B[0;36mPopulation.run\u001B[0;34m(self, fitness_function, n)\u001B[0m\n\u001B[1;32m     86\u001B[0m \u001B[38;5;28mself\u001B[39m\u001B[38;5;241m.\u001B[39mreporters\u001B[38;5;241m.\u001B[39mstart_generation(\u001B[38;5;28mself\u001B[39m\u001B[38;5;241m.\u001B[39mgeneration)\n\u001B[1;32m     88\u001B[0m \u001B[38;5;66;03m# Evaluate all genomes using the user-provided function.\u001B[39;00m\n\u001B[0;32m---> 89\u001B[0m \u001B[43mfitness_function\u001B[49m\u001B[43m(\u001B[49m\u001B[38;5;28;43mlist\u001B[39;49m\u001B[43m(\u001B[49m\u001B[43miteritems\u001B[49m\u001B[43m(\u001B[49m\u001B[38;5;28;43mself\u001B[39;49m\u001B[38;5;241;43m.\u001B[39;49m\u001B[43mpopulation\u001B[49m\u001B[43m)\u001B[49m\u001B[43m)\u001B[49m\u001B[43m,\u001B[49m\u001B[43m \u001B[49m\u001B[38;5;28;43mself\u001B[39;49m\u001B[38;5;241;43m.\u001B[39;49m\u001B[43mconfig\u001B[49m\u001B[43m)\u001B[49m\n\u001B[1;32m     91\u001B[0m \u001B[38;5;66;03m# Gather and report statistics.\u001B[39;00m\n\u001B[1;32m     92\u001B[0m best \u001B[38;5;241m=\u001B[39m \u001B[38;5;28;01mNone\u001B[39;00m\n",
      "Cell \u001B[0;32mIn[3], line 23\u001B[0m, in \u001B[0;36meval_genomes\u001B[0;34m(genomes, config)\u001B[0m\n\u001B[1;32m     21\u001B[0m moves \u001B[38;5;241m=\u001B[39m moves \u001B[38;5;241m+\u001B[39m \u001B[38;5;241m1\u001B[39m\n\u001B[1;32m     22\u001B[0m inNeurons \u001B[38;5;241m=\u001B[39m np\u001B[38;5;241m.\u001B[39mlog2(game\u001B[38;5;241m.\u001B[39mflat())\n\u001B[0;32m---> 23\u001B[0m output \u001B[38;5;241m=\u001B[39m \u001B[43mnet\u001B[49m\u001B[38;5;241;43m.\u001B[39;49m\u001B[43mactivate\u001B[49m\u001B[43m(\u001B[49m\u001B[43minNeurons\u001B[49m\u001B[43m)\u001B[49m\n\u001B[1;32m     24\u001B[0m output_moves \u001B[38;5;241m=\u001B[39m [(i, output[i]) \u001B[38;5;28;01mfor\u001B[39;00m i \u001B[38;5;129;01min\u001B[39;00m \u001B[38;5;28mrange\u001B[39m(\u001B[38;5;28mlen\u001B[39m(output))]\n\u001B[1;32m     25\u001B[0m output_moves \u001B[38;5;241m=\u001B[39m \u001B[38;5;28msorted\u001B[39m(output_moves, key\u001B[38;5;241m=\u001B[39m\u001B[38;5;28;01mlambda\u001B[39;00m x: x[\u001B[38;5;241m1\u001B[39m], reverse\u001B[38;5;241m=\u001B[39m\u001B[38;5;28;01mTrue\u001B[39;00m)\n",
      "File \u001B[0;32m~/Coding/2048_AI/.venv/lib/python3.11/site-packages/neat/nn/feed_forward.py:22\u001B[0m, in \u001B[0;36mFeedForwardNetwork.activate\u001B[0;34m(self, inputs)\u001B[0m\n\u001B[1;32m     20\u001B[0m node_inputs \u001B[38;5;241m=\u001B[39m []\n\u001B[1;32m     21\u001B[0m \u001B[38;5;28;01mfor\u001B[39;00m i, w \u001B[38;5;129;01min\u001B[39;00m links:\n\u001B[0;32m---> 22\u001B[0m     node_inputs\u001B[38;5;241m.\u001B[39mappend(\u001B[38;5;28mself\u001B[39m\u001B[38;5;241m.\u001B[39mvalues[i] \u001B[38;5;241m*\u001B[39m w)\n\u001B[1;32m     23\u001B[0m s \u001B[38;5;241m=\u001B[39m agg_func(node_inputs)\n\u001B[1;32m     24\u001B[0m \u001B[38;5;28mself\u001B[39m\u001B[38;5;241m.\u001B[39mvalues[node] \u001B[38;5;241m=\u001B[39m act_func(bias \u001B[38;5;241m+\u001B[39m response \u001B[38;5;241m*\u001B[39m s)\n",
      "\u001B[0;31mKeyboardInterrupt\u001B[0m: "
     ]
    }
   ],
   "source": [
    "game = gameClass()\n",
    "\n",
    "def map_neuron_to_move(pos):\n",
    "    if pos == 0:\n",
    "        return \"up\"\n",
    "    elif pos == 1:\n",
    "        return \"left\"\n",
    "    elif pos == 2:\n",
    "        return \"down\"\n",
    "    elif pos == 3:\n",
    "        return \"right\"\n",
    "\n",
    "def eval_genomes(genomes, config):\n",
    "    for genome_id, genome in genomes:\n",
    "        genome.fitness = 0.0\n",
    "        net = neat.nn.FeedForwardNetwork.create(genome, config)\n",
    "        \n",
    "        game.reset()\n",
    "        moves = 0\n",
    "        while not game.gameOver():\n",
    "            moves = moves + 1\n",
    "            inNeurons = np.log2(game.flat())\n",
    "            output = net.activate(inNeurons)\n",
    "            output_moves = [(i, output[i]) for i in range(len(output))]\n",
    "            output_moves = sorted(output_moves, key=lambda x: x[1], reverse=True)\n",
    "            \n",
    "            game.move(output_moves[0][0])\n",
    "        genome.fitness = np.log2(game.score())\n",
    "    \n",
    "            \n",
    "\n",
    "\n",
    "def run(config_file):\n",
    "    # Load configuration\n",
    "    config = neat.Config(neat.DefaultGenome, neat.DefaultReproduction, neat.DefaultSpeciesSet, neat.DefaultStagnation, config_file)\n",
    "\n",
    "    # Create the population, which is the top-level object for a NEAT run.\n",
    "    p = neat.Population(config)\n",
    "\n",
    "    # Add a stdout reporter to show progress in the terminal.\n",
    "    p.add_reporter(neat.StdOutReporter(True))\n",
    "    stats = neat.StatisticsReporter()\n",
    "    p.add_reporter(stats)\n",
    "    p.add_reporter(neat.Checkpointer(100))\n",
    "\n",
    "    # Run for up to 300 generations.\n",
    "    winner = p.run(eval_genomes, 1000)\n",
    "    # Display the winning genome.\n",
    "    #print('\\nBest genome:\\n{!s}'.format(winner))\n",
    "\n",
    "    #p = neat.Checkpointer.restore_checkpoint('neat-checkpoint-4')\n",
    "    p.run(eval_genomes, 10)\n",
    "\n",
    "#Main Code\n",
    "np.seterr(divide = 'ignore') \n",
    "local_dir = os.getcwd() \n",
    "config_path = os.path.join(local_dir, 'config-feedforward')\n",
    "run(config_path)"
   ],
   "metadata": {
    "collapsed": false,
    "ExecuteTime": {
     "end_time": "2024-03-04T07:48:51.580684Z",
     "start_time": "2024-03-04T07:48:49.873267Z"
    }
   },
   "id": "6ae12ae9f5801e5b",
   "execution_count": 3
  },
  {
   "cell_type": "code",
   "outputs": [],
   "source": [],
   "metadata": {
    "collapsed": false
   },
   "id": "bba3e06de7cabdb"
  }
 ],
 "metadata": {
  "kernelspec": {
   "display_name": "Python 3",
   "language": "python",
   "name": "python3"
  },
  "language_info": {
   "codemirror_mode": {
    "name": "ipython",
    "version": 2
   },
   "file_extension": ".py",
   "mimetype": "text/x-python",
   "name": "python",
   "nbconvert_exporter": "python",
   "pygments_lexer": "ipython2",
   "version": "2.7.6"
  }
 },
 "nbformat": 4,
 "nbformat_minor": 5
}
